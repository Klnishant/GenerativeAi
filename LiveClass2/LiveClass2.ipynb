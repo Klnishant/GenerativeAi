{
 "cells": [
  {
   "cell_type": "code",
   "execution_count": 1,
   "metadata": {},
   "outputs": [
    {
     "name": "stdout",
     "output_type": "stream",
     "text": [
      "Collecting dotenv\n",
      "  Using cached dotenv-0.0.5.tar.gz (2.4 kB)\n",
      "  Preparing metadata (setup.py): started\n",
      "  Preparing metadata (setup.py): finished with status 'error'\n",
      "Note: you may need to restart the kernel to use updated packages.\n"
     ]
    },
    {
     "name": "stderr",
     "output_type": "stream",
     "text": [
      "  error: subprocess-exited-with-error\n",
      "  \n",
      "  × python setup.py egg_info did not run successfully.\n",
      "  │ exit code: 1\n",
      "  ╰─> [64 lines of output]\n",
      "      c:\\Users\\klnis\\anaconda3\\lib\\site-packages\\setuptools\\installer.py:27: SetuptoolsDeprecationWarning: setuptools.installer is deprecated. Requirements should be satisfied by a PEP 517 installer.\n",
      "        warnings.warn(\n",
      "        error: subprocess-exited-with-error\n",
      "      \n",
      "        × python setup.py egg_info did not run successfully.\n",
      "        │ exit code: 1\n",
      "        ╰─> [16 lines of output]\n",
      "            Traceback (most recent call last):\n",
      "              File \"<string>\", line 2, in <module>\n",
      "              File \"<pip-setuptools-caller>\", line 14, in <module>\n",
      "              File \"C:\\Users\\klnis\\AppData\\Local\\Temp\\pip-wheel-j24j50sz\\distribute_25128c31910e44429ee87051b10baa20\\setuptools\\__init__.py\", line 2, in <module>\n",
      "                from setuptools.extension import Extension, Library\n",
      "              File \"C:\\Users\\klnis\\AppData\\Local\\Temp\\pip-wheel-j24j50sz\\distribute_25128c31910e44429ee87051b10baa20\\setuptools\\extension.py\", line 5, in <module>\n",
      "                from setuptools.dist import _get_unpatched\n",
      "              File \"C:\\Users\\klnis\\AppData\\Local\\Temp\\pip-wheel-j24j50sz\\distribute_25128c31910e44429ee87051b10baa20\\setuptools\\dist.py\", line 7, in <module>\n",
      "                from setuptools.command.install import install\n",
      "              File \"C:\\Users\\klnis\\AppData\\Local\\Temp\\pip-wheel-j24j50sz\\distribute_25128c31910e44429ee87051b10baa20\\setuptools\\command\\__init__.py\", line 8, in <module>\n",
      "                from setuptools.command import install_scripts\n",
      "              File \"C:\\Users\\klnis\\AppData\\Local\\Temp\\pip-wheel-j24j50sz\\distribute_25128c31910e44429ee87051b10baa20\\setuptools\\command\\install_scripts.py\", line 3, in <module>\n",
      "                from pkg_resources import Distribution, PathMetadata, ensure_directory\n",
      "              File \"C:\\Users\\klnis\\AppData\\Local\\Temp\\pip-wheel-j24j50sz\\distribute_25128c31910e44429ee87051b10baa20\\pkg_resources.py\", line 1518, in <module>\n",
      "                register_loader_type(importlib_bootstrap.SourceFileLoader, DefaultProvider)\n",
      "            AttributeError: module 'importlib._bootstrap' has no attribute 'SourceFileLoader'\n",
      "            [end of output]\n",
      "      \n",
      "        note: This error originates from a subprocess, and is likely not a problem with pip.\n",
      "      error: metadata-generation-failed\n",
      "      \n",
      "      × Encountered error while generating package metadata.\n",
      "      ╰─> See above for output.\n",
      "      \n",
      "      note: This is an issue with the package mentioned above, not pip.\n",
      "      hint: See above for details.\n",
      "      Traceback (most recent call last):\n",
      "        File \"c:\\Users\\klnis\\anaconda3\\lib\\site-packages\\setuptools\\installer.py\", line 82, in fetch_build_egg\n",
      "          subprocess.check_call(cmd)\n",
      "        File \"c:\\Users\\klnis\\anaconda3\\lib\\subprocess.py\", line 369, in check_call\n",
      "          raise CalledProcessError(retcode, cmd)\n",
      "      subprocess.CalledProcessError: Command '['c:\\\\Users\\\\klnis\\\\anaconda3\\\\python.exe', '-m', 'pip', '--disable-pip-version-check', 'wheel', '--no-deps', '-w', 'C:\\\\Users\\\\klnis\\\\AppData\\\\Local\\\\Temp\\\\tmpz1sw5cfr', '--quiet', 'distribute']' returned non-zero exit status 1.\n",
      "      \n",
      "      The above exception was the direct cause of the following exception:\n",
      "      \n",
      "      Traceback (most recent call last):\n",
      "        File \"<string>\", line 2, in <module>\n",
      "        File \"<pip-setuptools-caller>\", line 34, in <module>\n",
      "        File \"C:\\Users\\klnis\\AppData\\Local\\Temp\\pip-install-8znna4ip\\dotenv_cd482d7773c242adb0ce247fb35e6a5e\\setup.py\", line 13, in <module>\n",
      "          setup(name='dotenv',\n",
      "        File \"c:\\Users\\klnis\\anaconda3\\lib\\site-packages\\setuptools\\__init__.py\", line 86, in setup\n",
      "          _install_setup_requires(attrs)\n",
      "        File \"c:\\Users\\klnis\\anaconda3\\lib\\site-packages\\setuptools\\__init__.py\", line 80, in _install_setup_requires\n",
      "          dist.fetch_build_eggs(dist.setup_requires)\n",
      "        File \"c:\\Users\\klnis\\anaconda3\\lib\\site-packages\\setuptools\\dist.py\", line 874, in fetch_build_eggs\n",
      "          resolved_dists = pkg_resources.working_set.resolve(\n",
      "        File \"c:\\Users\\klnis\\anaconda3\\lib\\site-packages\\pkg_resources\\__init__.py\", line 789, in resolve\n",
      "          dist = best[req.key] = env.best_match(\n",
      "        File \"c:\\Users\\klnis\\anaconda3\\lib\\site-packages\\pkg_resources\\__init__.py\", line 1075, in best_match\n",
      "          return self.obtain(req, installer)\n",
      "        File \"c:\\Users\\klnis\\anaconda3\\lib\\site-packages\\pkg_resources\\__init__.py\", line 1087, in obtain\n",
      "          return installer(requirement)\n",
      "        File \"c:\\Users\\klnis\\anaconda3\\lib\\site-packages\\setuptools\\dist.py\", line 944, in fetch_build_egg\n",
      "          return fetch_build_egg(self, req)\n",
      "        File \"c:\\Users\\klnis\\anaconda3\\lib\\site-packages\\setuptools\\installer.py\", line 84, in fetch_build_egg\n",
      "          raise DistutilsError(str(e)) from e\n",
      "      distutils.errors.DistutilsError: Command '['c:\\\\Users\\\\klnis\\\\anaconda3\\\\python.exe', '-m', 'pip', '--disable-pip-version-check', 'wheel', '--no-deps', '-w', 'C:\\\\Users\\\\klnis\\\\AppData\\\\Local\\\\Temp\\\\tmpz1sw5cfr', '--quiet', 'distribute']' returned non-zero exit status 1.\n",
      "      [end of output]\n",
      "  \n",
      "  note: This error originates from a subprocess, and is likely not a problem with pip.\n",
      "error: metadata-generation-failed\n",
      "\n",
      "× Encountered error while generating package metadata.\n",
      "╰─> See above for output.\n",
      "\n",
      "note: This is an issue with the package mentioned above, not pip.\n",
      "hint: See above for details.\n"
     ]
    }
   ],
   "source": [
    "%pip install dotenv"
   ]
  },
  {
   "cell_type": "code",
   "execution_count": 5,
   "metadata": {},
   "outputs": [],
   "source": [
    "import os\n",
    "from dotenv import load_dotenv, find_dotenv\n",
    "_ = load_dotenv(find_dotenv())\n",
    "groq_api_key = os.environ[\"GROQ_API_KEY\"]"
   ]
  },
  {
   "cell_type": "code",
   "execution_count": 2,
   "metadata": {},
   "outputs": [],
   "source": [
    "from langchain_groq import ChatGroq"
   ]
  },
  {
   "cell_type": "code",
   "execution_count": 6,
   "metadata": {},
   "outputs": [],
   "source": [
    "chat_groq = ChatGroq(api_key=groq_api_key)"
   ]
  },
  {
   "cell_type": "code",
   "execution_count": 6,
   "metadata": {},
   "outputs": [
    {
     "name": "stdout",
     "output_type": "stream",
     "text": [
      "Note: you may need to restart the kernel to use updated packages.\n"
     ]
    },
    {
     "name": "stderr",
     "output_type": "stream",
     "text": [
      "ERROR: Could not find a version that satisfies the requirement langchain.chains (from versions: none)\n",
      "ERROR: No matching distribution found for langchain.chains\n"
     ]
    }
   ],
   "source": [
    "%pip install langchain.chains"
   ]
  },
  {
   "cell_type": "code",
   "execution_count": 7,
   "metadata": {},
   "outputs": [
    {
     "name": "stdout",
     "output_type": "stream",
     "text": [
      "Note: you may need to restart the kernel to use updated packages.\n"
     ]
    },
    {
     "name": "stderr",
     "output_type": "stream",
     "text": [
      "ERROR: Could not find a version that satisfies the requirement langchain.prompts (from versions: none)\n",
      "ERROR: No matching distribution found for langchain.prompts\n"
     ]
    }
   ],
   "source": [
    "%pip install langchain.prompts"
   ]
  },
  {
   "cell_type": "code",
   "execution_count": 10,
   "metadata": {},
   "outputs": [],
   "source": [
    "from langchain.chains import LLMChain #oldway"
   ]
  },
  {
   "cell_type": "code",
   "execution_count": 9,
   "metadata": {},
   "outputs": [],
   "source": [
    "from langchain.prompts import PromptTemplate\n",
    "\n",
    "prompt_template_name = PromptTemplate(\n",
    "    input_variables = ['cusine'],\n",
    "    template = \"I want to open a restaurant for {cuisine} food. Suggest a fency name for this.\"\n",
    ")"
   ]
  },
  {
   "cell_type": "code",
   "execution_count": 11,
   "metadata": {},
   "outputs": [
    {
     "name": "stderr",
     "output_type": "stream",
     "text": [
      "C:\\Users\\klnis\\AppData\\Local\\Temp\\ipykernel_10376\\2150228825.py:1: LangChainDeprecationWarning: The class `LLMChain` was deprecated in LangChain 0.1.17 and will be removed in 1.0. Use :meth:`~RunnableSequence, e.g., `prompt | llm`` instead.\n",
      "  chain = LLMChain(llm=chat_groq,prompt=prompt_template_name,verbose=True)\n"
     ]
    }
   ],
   "source": [
    "chain = LLMChain(llm=chat_groq,prompt=prompt_template_name,verbose=True)"
   ]
  },
  {
   "cell_type": "code",
   "execution_count": 14,
   "metadata": {},
   "outputs": [
    {
     "name": "stdout",
     "output_type": "stream",
     "text": [
      "\n",
      "\n",
      "\u001b[1m> Entering new LLMChain chain...\u001b[0m\n",
      "Prompt after formatting:\n",
      "\u001b[32;1m\u001b[1;3mI want to open a restaurant for indian food. Suggest a fency name for this.\u001b[0m\n",
      "\n",
      "\u001b[1m> Finished chain.\u001b[0m\n"
     ]
    }
   ],
   "source": [
    "response=chain.run(\"indian\")"
   ]
  },
  {
   "cell_type": "code",
   "execution_count": 15,
   "metadata": {},
   "outputs": [
    {
     "name": "stdout",
     "output_type": "stream",
     "text": [
      "How about \"Raj Mahal: A Royal Indian Kitchen\"? This name suggests elegance, luxury, and authentic Indian cuisine, which could help attract a high-end clientele. The use of \"Raj\" and \"Mahal\" also evokes images of Indian royalty and palaces, which could further enhance the restaurant's upscale image. Additionally, \"A Royal Indian Kitchen\" clearly communicates the type of food that will be served, making it easy for potential customers to understand what to expect.\n"
     ]
    }
   ],
   "source": [
    "print(response)"
   ]
  },
  {
   "cell_type": "markdown",
   "metadata": {},
   "source": [
    "#Types of Chaining"
   ]
  },
  {
   "cell_type": "code",
   "execution_count": 21,
   "metadata": {},
   "outputs": [],
   "source": [
    "prompt_template_name = PromptTemplate(\n",
    "    input_variables = ['cusine'],\n",
    "    template = \"I want to open a restaurant for {cuisine} food. Suggest a fency name for this.\"\n",
    ")"
   ]
  },
  {
   "cell_type": "code",
   "execution_count": 22,
   "metadata": {},
   "outputs": [],
   "source": [
    "name_chain = LLMChain(llm=chat_groq,prompt=prompt_template_name)"
   ]
  },
  {
   "cell_type": "code",
   "execution_count": 23,
   "metadata": {},
   "outputs": [],
   "source": [
    "prompt_template_items = PromptTemplate(\n",
    "    input_variables = ['restaurant_name'],\n",
    "    template=\"\"\"Suggest some menu items for {restaurant_name}\"\"\"\n",
    ")"
   ]
  },
  {
   "cell_type": "code",
   "execution_count": 24,
   "metadata": {},
   "outputs": [],
   "source": [
    "item_chain = LLMChain(llm= chat_groq,prompt=prompt_template_items)"
   ]
  },
  {
   "cell_type": "code",
   "execution_count": 25,
   "metadata": {},
   "outputs": [],
   "source": [
    "from langchain.chains import SimpleSequentialChain"
   ]
  },
  {
   "cell_type": "code",
   "execution_count": 26,
   "metadata": {},
   "outputs": [],
   "source": [
    "chain = SimpleSequentialChain(chains = [name_chain,item_chain])"
   ]
  },
  {
   "cell_type": "code",
   "execution_count": 28,
   "metadata": {},
   "outputs": [],
   "source": [
    "response=chain.run('indian')"
   ]
  },
  {
   "cell_type": "code",
   "execution_count": 29,
   "metadata": {},
   "outputs": [
    {
     "name": "stdout",
     "output_type": "stream",
     "text": [
      "Here are some menu item suggestions for your fancy Indian restaurant, based on the names you provided:\n",
      "\n",
      "1. The Saffron Palette:\n",
      "* Saffron-infused lamb kebabs with cashew cream sauce\n",
      "* Saffron rice pudding with rosewater and pistachios\n",
      "* Saffron-poached pear with cardamom cream\n",
      "2. Garam Masala Table:\n",
      "* Garam masala-marinated chicken tikka with cilantro-mint chutney\n",
      "* Garam masala-spiced cauliflower and potatoes with tomato and onion\n",
      "* Garam masala-infused butternut squash soup with naan bread\n",
      "3. Spice Royale:\n",
      "* Spice-rubbed rack of lamb with saffron and almond couscous\n",
      "* Spiced seafood curry with coconut milk and basmati rice\n",
      "* Spiced chocolate mousse with chili and cinnamon\n",
      "4. Curry Leaf Manor:\n",
      "* Curry leaf-infused shrimp and coconut curry with jasmine rice\n",
      "* Curry leaf-marinated paneer with spiced tomato sauce and naan bread\n",
      "* Curry leaf-spiced lentil soup with yogurt and cilantro\n",
      "5. Raita Rendezvous:\n",
      "* Cucumber and mint raita with spiced chicken skewers and naan bread\n",
      "* Beet and yogurt raita with roasted squash and spiced chickpeas\n",
      "* Mango and coconut raita with spiced shrimp and rice\n",
      "6. Tandoori Temple:\n",
      "* Tandoori-marinated chicken with spiced yogurt sauce and naan bread\n",
      "* Tandoori-spiced cauliflower steaks with tomato and onion\n",
      "* Tandoori-grilled eggplant with yogurt and mint sauce\n",
      "7. Biryani Bistro:\n",
      "* Chicken biryani with saffron and almonds\n",
      "* Lamb biryani with spiced tomato sauce and raita\n",
      "* Vegetable biryani with cashews and raisins\n",
      "\n",
      "I hope these menu item suggestions help you create a unique and delicious dining experience at your Indian restaurant!\n"
     ]
    }
   ],
   "source": [
    "print(response)"
   ]
  },
  {
   "cell_type": "code",
   "execution_count": 37,
   "metadata": {},
   "outputs": [],
   "source": [
    "prompt_template_name = PromptTemplate(\n",
    "    input_variables = ['cuisine'],\n",
    "    template = \"I want to open a restaurant for {cuisine} food. Suggest a fency name for this.\"\n",
    ")"
   ]
  },
  {
   "cell_type": "code",
   "execution_count": 31,
   "metadata": {},
   "outputs": [],
   "source": [
    "name_chain = LLMChain(llm=chat_groq,prompt=prompt_template_name,output_key=\"restaurant_name\")"
   ]
  },
  {
   "cell_type": "code",
   "execution_count": 32,
   "metadata": {},
   "outputs": [],
   "source": [
    "prompt_template_items = PromptTemplate(\n",
    "    input_variables = ['restaurant_name'],\n",
    "    template=\"\"\"Suggest some menu items for {restaurant_name}\"\"\"\n",
    ")"
   ]
  },
  {
   "cell_type": "code",
   "execution_count": 33,
   "metadata": {},
   "outputs": [],
   "source": [
    "item_chain = LLMChain(llm= chat_groq,prompt=prompt_template_items,output_key=\"menu_items\")"
   ]
  },
  {
   "cell_type": "code",
   "execution_count": 34,
   "metadata": {},
   "outputs": [],
   "source": [
    "from langchain.chains import SequentialChain"
   ]
  },
  {
   "cell_type": "code",
   "execution_count": 38,
   "metadata": {},
   "outputs": [],
   "source": [
    "chain = SequentialChain(\n",
    "    chains = [name_chain,item_chain],\n",
    "    input_variables = ['cuisine'],\n",
    "    output_variables = ['restaurant_name',\"menu_items\"]\n",
    ")"
   ]
  },
  {
   "cell_type": "code",
   "execution_count": 40,
   "metadata": {},
   "outputs": [
    {
     "name": "stderr",
     "output_type": "stream",
     "text": [
      "C:\\Users\\klnis\\AppData\\Local\\Temp\\ipykernel_10376\\1578337553.py:1: LangChainDeprecationWarning: The method `Chain.__call__` was deprecated in langchain 0.1.0 and will be removed in 1.0. Use :meth:`~invoke` instead.\n",
      "  response=chain({\"cuisine\":\"indian\"})\n"
     ]
    }
   ],
   "source": [
    "response=chain({\"cuisine\":\"indian\"})"
   ]
  },
  {
   "cell_type": "code",
   "execution_count": 41,
   "metadata": {},
   "outputs": [
    {
     "name": "stdout",
     "output_type": "stream",
     "text": [
      "{'cuisine': 'indian', 'restaurant_name': 'How about \"Saffron Palette: A Culinary Journey through India\"? The name suggests upscale dining with an Indian focus, and the use of the word \"journey\" implies that diners can expect a variety of regional dishes and flavors. \"Saffron\" is a prized and expensive spice in Indian cuisine, and its golden color can be associated with luxury and fine dining. \"Palette\" not only refers to a range of colors, but also to the selection of dishes that the restaurant will offer, showcasing the diversity of Indian cuisine.', 'menu_items': 'Welcome to Saffron Palette, where we take you on a culinary journey through the diverse regions of India. Our menu is designed to showcase the wide variety of flavors, ingredients, and techniques that make Indian cuisine so unique and beloved.\\n\\nStarters:\\n\\n1. Saffron-infused Samosa Trio: A trio of crispy samosas filled with spiced potatoes, peas, and paneer, served with a tangy tamarind chutney and cool raita.\\n2. Tandoori Platter: A selection of succulent meats and vegetables marinated in a blend of yogurt and spices, then cooked to perfection in our traditional tandoor oven. Served with mint chutney and lemon wedges.\\n3. Malabar Shrimp: Juicy shrimp cooked in a fragrant coconut milk and spice broth, garnished with curry leaves and mustard seeds.\\n4. Chaat Platter: A medley of popular Indian street foods, including papdi chaat, aloo tikki, and bhel puri, served with a variety of chutneys and toppings.\\n\\nMain Courses:\\n\\n1. Kashmiri Rogan Josh: Tender lamb slow-cooked in a rich and aromatic gravy of tomatoes, onions, and a blend of exotic spices, infused with the delicate flavor of saffron. Served with fragrant basmati rice.\\n2. Goan Fish Curry: Fresh fish cooked in a tangy and spicy coconut-based curry, infused with the flavors of kokum, tamarind, and spices. Served with steamed rice and a side of crunchy papadums.\\n3. Palak Paneer: Creamy spinach puree cooked with cubes of paneer (Indian cheese), simmered in a blend of spices and garnished with fresh cream. Served with garlic naan.\\n4. Chettinad Chicken: Spicy chicken dish from the Chettinad region of Tamil Nadu, cooked in a blend of robust spices and coconut milk, tempered with curry leaves and mustard seeds. Served with lemon rice.\\n5. Dum Biryani: Aromatic basmati rice layered with marinated meat (chicken, lamb or goat), slow-cooked in a sealed pot, infused with the flavors of saffron, rose water, and an array of spices.\\n\\nDesserts:\\n\\n1. Saffron Kulfi: Creamy and rich Indian ice cream, infused with the delicate flavor of saffron, garnished with chopped pistachios and served in a crispy kulfi mold.\\n2. Gulab Jamun: Soft and spongy milk dumplings soaked in a sweet and sticky syrup scented with cardamom and rose water, garnished with chopped nuts.\\n3. Rasmalai: Soft and spongy cottage cheese dumplings soaked in sweetened milk, infused with cardamom and saffron, garnished with chopped nuts and dried rose petals.\\n4. Mango Shrikhand: Sweet and tangy yogurt-based dessert, flavored with the juicy and aromatic mango pulp, garnished with chopped nuts and served in a traditional Indian bowl.\\n\\nBeverages:\\n\\n1. Masala Chai: A warm and comforting blend of black tea, milk, sugar, and an array of aromatic spices, served in a traditional Indian cup.\\n2. Mango Lassi: Refreshing and creamy yogurt-based drink, blended with sweet and juicy mango pulp, served in a tall glass.\\n3. Nimbu Pani: A classic Indian lemonade, made with freshly squeezed lemons, mint leaves, cumin powder, and a touch of sugar, served in a tall glass over ice.\\n4. Ginger-Cardamom Chai Latte: A soothing and invigorating blend of black tea, steamed milk, sugar, ginger, and cardamom, topped with a sprinkle of cinnamon.'}\n"
     ]
    }
   ],
   "source": [
    "print(response)"
   ]
  },
  {
   "cell_type": "markdown",
   "metadata": {},
   "source": [
    "New Chain"
   ]
  },
  {
   "cell_type": "code",
   "execution_count": 43,
   "metadata": {},
   "outputs": [
    {
     "name": "stdout",
     "output_type": "stream",
     "text": [
      "Note: you may need to restart the kernel to use updated packages.\n"
     ]
    },
    {
     "name": "stderr",
     "output_type": "stream",
     "text": [
      "ERROR: Could not find a version that satisfies the requirement langchain.schema (from versions: none)\n",
      "ERROR: No matching distribution found for langchain.schema\n"
     ]
    }
   ],
   "source": [
    "%pip install langchain.schema"
   ]
  },
  {
   "cell_type": "code",
   "execution_count": 1,
   "metadata": {},
   "outputs": [],
   "source": [
    "from langchain_groq import ChatGroq\n",
    "from langchain.prompts import PromptTemplate\n",
    "from langchain.schema import StrOutputParser"
   ]
  },
  {
   "cell_type": "code",
   "execution_count": 2,
   "metadata": {},
   "outputs": [],
   "source": [
    "prompt_template = \"Translate the following English text to French: {text}\"\n",
    "\n",
    "input_text = \"Hello, how are you?\""
   ]
  },
  {
   "cell_type": "code",
   "execution_count": 3,
   "metadata": {},
   "outputs": [],
   "source": [
    "prompt = PromptTemplate.from_template(prompt_template)"
   ]
  },
  {
   "cell_type": "code",
   "execution_count": 4,
   "metadata": {},
   "outputs": [],
   "source": [
    "llm = ChatGroq()"
   ]
  },
  {
   "cell_type": "code",
   "execution_count": 5,
   "metadata": {},
   "outputs": [],
   "source": [
    "chain = prompt | llm | StrOutputParser()"
   ]
  },
  {
   "cell_type": "code",
   "execution_count": 6,
   "metadata": {},
   "outputs": [],
   "source": [
    "response = chain.invoke({\"text\":input_text})\n"
   ]
  },
  {
   "cell_type": "code",
   "execution_count": 7,
   "metadata": {},
   "outputs": [
    {
     "name": "stdout",
     "output_type": "stream",
     "text": [
      "Translated Text: Bonjour, comment ça va ?\n",
      "\n",
      "This is a simple and common greeting in French. \"Bonjour\" means \"hello\" and \"comment ça va\" means \"how are you?\" You can use this greeting when you meet someone or want to start a conversation. I hope this helps! Let me know if you have any other questions.\n"
     ]
    }
   ],
   "source": [
    "print(\"Translated Text:\",response)"
   ]
  },
  {
   "cell_type": "code",
   "execution_count": null,
   "metadata": {},
   "outputs": [],
   "source": []
  }
 ],
 "metadata": {
  "kernelspec": {
   "display_name": "base",
   "language": "python",
   "name": "python3"
  },
  "language_info": {
   "codemirror_mode": {
    "name": "ipython",
    "version": 3
   },
   "file_extension": ".py",
   "mimetype": "text/x-python",
   "name": "python",
   "nbconvert_exporter": "python",
   "pygments_lexer": "ipython3",
   "version": "3.10.9"
  }
 },
 "nbformat": 4,
 "nbformat_minor": 2
}

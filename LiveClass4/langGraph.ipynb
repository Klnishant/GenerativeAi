{
 "cells": [
  {
   "cell_type": "code",
   "execution_count": 1,
   "metadata": {},
   "outputs": [
    {
     "name": "stdout",
     "output_type": "stream",
     "text": [
      "Collecting langgraph==0.2.20\n",
      "  Downloading langgraph-0.2.20-py3-none-any.whl (97 kB)\n",
      "     -------------------------------------- 97.6/97.6 kB 328.5 kB/s eta 0:00:00\n",
      "Requirement already satisfied: langchain-core<0.4,>=0.2.39 in c:\\users\\klnis\\anaconda3\\lib\\site-packages (from langgraph==0.2.20) (0.3.31)\n",
      "Collecting langgraph-checkpoint<2.0.0,>=1.0.2\n",
      "  Downloading langgraph_checkpoint-1.0.12-py3-none-any.whl (17 kB)\n",
      "Requirement already satisfied: PyYAML>=5.3 in c:\\users\\klnis\\anaconda3\\lib\\site-packages (from langchain-core<0.4,>=0.2.39->langgraph==0.2.20) (6.0)\n",
      "Requirement already satisfied: packaging<25,>=23.2 in c:\\users\\klnis\\anaconda3\\lib\\site-packages (from langchain-core<0.4,>=0.2.39->langgraph==0.2.20) (24.2)\n",
      "Requirement already satisfied: tenacity!=8.4.0,<10.0.0,>=8.1.0 in c:\\users\\klnis\\anaconda3\\lib\\site-packages (from langchain-core<0.4,>=0.2.39->langgraph==0.2.20) (8.5.0)\n",
      "Requirement already satisfied: typing-extensions>=4.7 in c:\\users\\klnis\\anaconda3\\lib\\site-packages (from langchain-core<0.4,>=0.2.39->langgraph==0.2.20) (4.12.2)\n",
      "Requirement already satisfied: langsmith<0.4,>=0.1.125 in c:\\users\\klnis\\anaconda3\\lib\\site-packages (from langchain-core<0.4,>=0.2.39->langgraph==0.2.20) (0.1.147)\n",
      "Requirement already satisfied: pydantic<3.0.0,>=2.5.2 in c:\\users\\klnis\\anaconda3\\lib\\site-packages (from langchain-core<0.4,>=0.2.39->langgraph==0.2.20) (2.10.5)\n",
      "Requirement already satisfied: jsonpatch<2.0,>=1.33 in c:\\users\\klnis\\anaconda3\\lib\\site-packages (from langchain-core<0.4,>=0.2.39->langgraph==0.2.20) (1.33)\n",
      "Collecting msgpack<2.0.0,>=1.1.0\n",
      "  Downloading msgpack-1.1.0-cp310-cp310-win_amd64.whl (74 kB)\n",
      "     ---------------------------------------- 74.7/74.7 kB 1.0 MB/s eta 0:00:00\n",
      "Requirement already satisfied: jsonpointer>=1.9 in c:\\users\\klnis\\anaconda3\\lib\\site-packages (from jsonpatch<2.0,>=1.33->langchain-core<0.4,>=0.2.39->langgraph==0.2.20) (2.1)\n",
      "Requirement already satisfied: requests<3,>=2 in c:\\users\\klnis\\anaconda3\\lib\\site-packages (from langsmith<0.4,>=0.1.125->langchain-core<0.4,>=0.2.39->langgraph==0.2.20) (2.28.1)\n",
      "Requirement already satisfied: requests-toolbelt<2.0.0,>=1.0.0 in c:\\users\\klnis\\anaconda3\\lib\\site-packages (from langsmith<0.4,>=0.1.125->langchain-core<0.4,>=0.2.39->langgraph==0.2.20) (1.0.0)\n",
      "Requirement already satisfied: httpx<1,>=0.23.0 in c:\\users\\klnis\\anaconda3\\lib\\site-packages (from langsmith<0.4,>=0.1.125->langchain-core<0.4,>=0.2.39->langgraph==0.2.20) (0.28.1)\n",
      "Requirement already satisfied: orjson<4.0.0,>=3.9.14 in c:\\users\\klnis\\anaconda3\\lib\\site-packages (from langsmith<0.4,>=0.1.125->langchain-core<0.4,>=0.2.39->langgraph==0.2.20) (3.10.15)\n",
      "Requirement already satisfied: pydantic-core==2.27.2 in c:\\users\\klnis\\anaconda3\\lib\\site-packages (from pydantic<3.0.0,>=2.5.2->langchain-core<0.4,>=0.2.39->langgraph==0.2.20) (2.27.2)\n",
      "Requirement already satisfied: annotated-types>=0.6.0 in c:\\users\\klnis\\anaconda3\\lib\\site-packages (from pydantic<3.0.0,>=2.5.2->langchain-core<0.4,>=0.2.39->langgraph==0.2.20) (0.7.0)\n",
      "Requirement already satisfied: idna in c:\\users\\klnis\\anaconda3\\lib\\site-packages (from httpx<1,>=0.23.0->langsmith<0.4,>=0.1.125->langchain-core<0.4,>=0.2.39->langgraph==0.2.20) (3.4)\n",
      "Requirement already satisfied: certifi in c:\\users\\klnis\\anaconda3\\lib\\site-packages (from httpx<1,>=0.23.0->langsmith<0.4,>=0.1.125->langchain-core<0.4,>=0.2.39->langgraph==0.2.20) (2024.2.2)\n",
      "Requirement already satisfied: httpcore==1.* in c:\\users\\klnis\\anaconda3\\lib\\site-packages (from httpx<1,>=0.23.0->langsmith<0.4,>=0.1.125->langchain-core<0.4,>=0.2.39->langgraph==0.2.20) (1.0.7)\n",
      "Requirement already satisfied: anyio in c:\\users\\klnis\\anaconda3\\lib\\site-packages (from httpx<1,>=0.23.0->langsmith<0.4,>=0.1.125->langchain-core<0.4,>=0.2.39->langgraph==0.2.20) (3.5.0)\n",
      "Requirement already satisfied: h11<0.15,>=0.13 in c:\\users\\klnis\\anaconda3\\lib\\site-packages (from httpcore==1.*->httpx<1,>=0.23.0->langsmith<0.4,>=0.1.125->langchain-core<0.4,>=0.2.39->langgraph==0.2.20) (0.14.0)\n",
      "Requirement already satisfied: charset-normalizer<3,>=2 in c:\\users\\klnis\\anaconda3\\lib\\site-packages (from requests<3,>=2->langsmith<0.4,>=0.1.125->langchain-core<0.4,>=0.2.39->langgraph==0.2.20) (2.0.4)\n",
      "Requirement already satisfied: urllib3<1.27,>=1.21.1 in c:\\users\\klnis\\anaconda3\\lib\\site-packages (from requests<3,>=2->langsmith<0.4,>=0.1.125->langchain-core<0.4,>=0.2.39->langgraph==0.2.20) (1.26.14)\n",
      "Requirement already satisfied: sniffio>=1.1 in c:\\users\\klnis\\anaconda3\\lib\\site-packages (from anyio->httpx<1,>=0.23.0->langsmith<0.4,>=0.1.125->langchain-core<0.4,>=0.2.39->langgraph==0.2.20) (1.2.0)\n",
      "Installing collected packages: msgpack, langgraph-checkpoint, langgraph\n",
      "  Attempting uninstall: msgpack\n",
      "    Found existing installation: msgpack 1.0.3\n",
      "    Uninstalling msgpack-1.0.3:\n",
      "      Successfully uninstalled msgpack-1.0.3\n",
      "Successfully installed langgraph-0.2.20 langgraph-checkpoint-1.0.12 msgpack-1.1.0\n",
      "Note: you may need to restart the kernel to use updated packages.\n"
     ]
    }
   ],
   "source": [
    "%pip install langgraph==0.2.20"
   ]
  },
  {
   "cell_type": "code",
   "execution_count": 29,
   "metadata": {},
   "outputs": [],
   "source": [
    "import os\n",
    "from dotenv import load_dotenv, find_dotenv\n",
    "_=load_dotenv(find_dotenv())\n",
    "\n",
    "groq_api_key = os.environ[\"GROQ_API_KEY\"]"
   ]
  },
  {
   "cell_type": "code",
   "execution_count": 30,
   "metadata": {},
   "outputs": [],
   "source": [
    "from langchain_groq import  ChatGroq\n",
    "\n",
    "llm = ChatGroq()"
   ]
  },
  {
   "cell_type": "code",
   "execution_count": 31,
   "metadata": {},
   "outputs": [
    {
     "ename": "",
     "evalue": "",
     "output_type": "error",
     "traceback": [
      "\u001b[1;31mThe kernel failed to start as the Python Environment 'genaienv (Python -1.-1.-1)' is no longer available. Consider selecting another kernel or refreshing the list of Python Environments."
     ]
    }
   ],
   "source": [
    "tavily_api_key=os.environ['TAVILY_API_KEY']"
   ]
  },
  {
   "cell_type": "code",
   "execution_count": 32,
   "metadata": {},
   "outputs": [],
   "source": [
    "from langchain_community.tools.tavily_search import TavilySearchResults"
   ]
  },
  {
   "cell_type": "code",
   "execution_count": 33,
   "metadata": {},
   "outputs": [
    {
     "data": {
      "text/plain": [
       "[{'url': 'https://www.mykhel.com/cricket/border-gavaskar-trophy-winners-full-list-of-results-of-every-bgt-after-australia-win-latest-series-331585.html',\n",
       "  'content': 'Border-Gavaskar Trophy Winners: Full List of Results Of Every BGT After Australia Win Latest Series - myKhel Border-Gavaskar Trophy Winners: Full List of Results Of Every BGT After Australia Win Latest Series Border-Gavaskar Trophy (BGT), named after former captains of Australia and India, Allan Border and Sunil Gavaskar, is a Test series contested by the two current heavyweights of the game since the 1996-97 season. Here is a look at the Border-Gavaskar Trophy winners list along with the series outcome of all the India vs Australia Test series since 1996: IND vs AUS 5th Test: Unbeaten in Last 13 – What is Australia’s Record at SCG Before Meeting With India? IND vs AUS: Jasprit Bumrah Surpasses Bishan Singh Bedi to Claim Most Wickets in Overseas Test Series For India'},\n",
       " {'url': 'https://www.dnaindia.com/cricket/report-australia-beats-india-3-1-to-win-bgt-2024-25-what-australian-media-wrote-3125610',\n",
       "  'content': \"Australia beats India 3-1 to win BGT 2024-25: What Australian media wrote Pat Cummins finally brought an end to Australia's decade-long drought for the Border-Gavaskar Trophy. Australia secured their first series victory since 2015 triumphing over India with a 3-1 scoreline.\"}]"
      ]
     },
     "execution_count": 33,
     "metadata": {},
     "output_type": "execute_result"
    }
   ],
   "source": [
    "search = TavilySearchResults(max_results=2)\n",
    "\n",
    "search.invoke(\"Who won the bgt in cricket?\")"
   ]
  },
  {
   "cell_type": "code",
   "execution_count": 34,
   "metadata": {},
   "outputs": [],
   "source": [
    "tools = [search]"
   ]
  },
  {
   "cell_type": "code",
   "execution_count": 35,
   "metadata": {},
   "outputs": [
    {
     "data": {
      "text/plain": [
       "[TavilySearchResults(max_results=2, api_wrapper=TavilySearchAPIWrapper(tavily_api_key=SecretStr('**********')))]"
      ]
     },
     "execution_count": 35,
     "metadata": {},
     "output_type": "execute_result"
    }
   ],
   "source": [
    "tools"
   ]
  },
  {
   "cell_type": "code",
   "execution_count": 36,
   "metadata": {},
   "outputs": [],
   "source": [
    "#Agents\n",
    "from langgraph.prebuilt import create_react_agent"
   ]
  },
  {
   "cell_type": "code",
   "execution_count": 37,
   "metadata": {},
   "outputs": [],
   "source": [
    "agent_executer = create_react_agent(llm,tools)"
   ]
  },
  {
   "cell_type": "code",
   "execution_count": 38,
   "metadata": {},
   "outputs": [],
   "source": [
    "from langchain_core.messages import HumanMessage"
   ]
  },
  {
   "cell_type": "code",
   "execution_count": 39,
   "metadata": {},
   "outputs": [
    {
     "data": {
      "text/plain": [
       "[HumanMessage(content='Where is the t20 world cup 2024 played?', additional_kwargs={}, response_metadata={}, id='1b69ee69-5d45-4b00-88a2-7851405dc01d'),\n",
       " AIMessage(content='', additional_kwargs={'tool_calls': [{'id': 'call_fy0b', 'function': {'arguments': '{\"query\":\"t20 world cup 2024 location\"}', 'name': 'tavily_search_results_json'}, 'type': 'function'}]}, response_metadata={'token_usage': {'completion_tokens': 105, 'prompt_tokens': 1220, 'total_tokens': 1325, 'completion_time': 0.160865104, 'prompt_time': 0.099712613, 'queue_time': 0.019617833, 'total_time': 0.260577717}, 'model_name': 'mixtral-8x7b-32768', 'system_fingerprint': 'fp_c5f20b5bb1', 'finish_reason': 'tool_calls', 'logprobs': None}, id='run-7abfccbd-6f88-44f4-b19f-623b9dd8a9b8-0', tool_calls=[{'name': 'tavily_search_results_json', 'args': {'query': 't20 world cup 2024 location'}, 'id': 'call_fy0b', 'type': 'tool_call'}], usage_metadata={'input_tokens': 1220, 'output_tokens': 105, 'total_tokens': 1325}),\n",
       " ToolMessage(content='[{\"url\": \"https://khelnow.com/cricket/icc-t20-world-cup-2024-list-of-all-venues\", \"content\": \"ICC T20 World Cup 2024 will be hosted at six venues across the Caribbean islands and three in the USA. The ICC T20 World Cup 2024 will be hosted by the United States of America and West Indies from June 1 to June 29, with 20 teams participating, including India.\"}, {\"url\": \"https://sportstar.thehindu.com/cricket/icc-t20-world-cup-2024-venues-seven-countries-west-indies-wi-t20wc-locations/article67335139.ece\", \"content\": \"The International Cricket Council (ICC) on Friday confirmed the seven venues in the Caribbean that will host the ICC Men\\'s T20 World Cup 2024 from June 4 to 30. Antigua & Barbuda, Barbados, Dominica, Guyana, Saint Lucia, St. Vincent and the Grenadines, and Trinidad & Tobago, will host games along with three venues in the USA - Dallas, Florida and New York.\"}]', name='tavily_search_results_json', id='a32a1184-d74c-4ab5-8410-c5de0aa274bc', tool_call_id='call_fy0b', artifact={'query': 't20 world cup 2024 location', 'follow_up_questions': None, 'answer': None, 'images': [], 'results': [{'title': 'ICC T20 World Cup 2024: List of all venues - Khel Now', 'url': 'https://khelnow.com/cricket/icc-t20-world-cup-2024-list-of-all-venues', 'content': 'ICC T20 World Cup 2024 will be hosted at six venues across the Caribbean islands and three in the USA. The ICC T20 World Cup 2024 will be hosted by the United States of America and West Indies from June 1 to June 29, with 20 teams participating, including India.', 'score': 0.9222657, 'raw_content': None}, {'title': \"T20 World Cup 2024: Full list of venues for men's WC, seven in ...\", 'url': 'https://sportstar.thehindu.com/cricket/icc-t20-world-cup-2024-venues-seven-countries-west-indies-wi-t20wc-locations/article67335139.ece', 'content': \"The International Cricket Council (ICC) on Friday confirmed the seven venues in the Caribbean that will host the ICC Men's T20 World Cup 2024 from June 4 to 30. Antigua & Barbuda, Barbados, Dominica, Guyana, Saint Lucia, St. Vincent and the Grenadines, and Trinidad & Tobago, will host games along with three venues in the USA - Dallas, Florida and New York.\", 'score': 0.9039154, 'raw_content': None}], 'response_time': 1.75}),\n",
       " AIMessage(content='The T20 World Cup 2024 will be played at six venues in the Caribbean islands and three venues in the USA, specifically in Antigua & Barbuda, Barbados, Dominica, Guyana, Saint Lucia, St. Vincent and the Grenadines, Trinidad & Tobago, Dallas, Florida, and New York.', additional_kwargs={}, response_metadata={'token_usage': {'completion_tokens': 76, 'prompt_tokens': 1606, 'total_tokens': 1682, 'completion_time': 0.116139797, 'prompt_time': 0.082111229, 'queue_time': 0.017899140000000008, 'total_time': 0.198251026}, 'model_name': 'mixtral-8x7b-32768', 'system_fingerprint': 'fp_c5f20b5bb1', 'finish_reason': 'stop', 'logprobs': None}, id='run-3a5882ba-6f74-4d59-b63c-0065c244cbe3-0', usage_metadata={'input_tokens': 1606, 'output_tokens': 76, 'total_tokens': 1682})]"
      ]
     },
     "execution_count": 39,
     "metadata": {},
     "output_type": "execute_result"
    }
   ],
   "source": [
    "response = agent_executer.invoke({\"messages\": [HumanMessage(content=\"Where is the t20 world cup 2024 played?\")]})\n",
    "\n",
    "response[\"messages\"]"
   ]
  },
  {
   "cell_type": "code",
   "execution_count": 41,
   "metadata": {},
   "outputs": [
    {
     "data": {
      "text/plain": [
       "[HumanMessage(content='What is python?', additional_kwargs={}, response_metadata={}, id='8c9ad296-92ae-4d9f-93ef-aeb201b87c69'),\n",
       " AIMessage(content='', additional_kwargs={'tool_calls': [{'id': 'call_hbwt', 'function': {'arguments': '{\"query\":\"Python programming language\"}', 'name': 'tavily_search_results_json'}, 'type': 'function'}]}, response_metadata={'token_usage': {'completion_tokens': 98, 'prompt_tokens': 1209, 'total_tokens': 1307, 'completion_time': 0.150751681, 'prompt_time': 0.051136577, 'queue_time': 0.022579692999999998, 'total_time': 0.201888258}, 'model_name': 'mixtral-8x7b-32768', 'system_fingerprint': 'fp_c5f20b5bb1', 'finish_reason': 'tool_calls', 'logprobs': None}, id='run-bc2157c6-8d74-478f-a17d-510c7b09d549-0', tool_calls=[{'name': 'tavily_search_results_json', 'args': {'query': 'Python programming language'}, 'id': 'call_hbwt', 'type': 'tool_call'}], usage_metadata={'input_tokens': 1209, 'output_tokens': 98, 'total_tokens': 1307}),\n",
       " ToolMessage(content='[{\"url\": \"https://en.wikipedia.org/wiki/Python_(programming_language)\", \"content\": \"Other implementations\\\\nUnsupported implementations\\\\nOther just-in-time Python compilers have been developed, but are now unsupported:\\\\nCross-compilers to other languages\\\\nThere are several compilers/transpilers to high-level object languages, with either unrestricted Python, a restricted subset of Python, or a language similar to Python as the source language:\\\\nSpecialized:\\\\nOlder projects (or not to be used with Python 3.x and latest syntax):\\\\nPerformance\\\\nPerformance comparison of various Python implementations on a non-numerical (combinatorial) workload was presented at EuroSciPy \\'13.[160] Python\\'s performance compared to other programming languages is also benchmarked by The Computer Language Benchmarks Game.[161]\\\\nDevelopment\\\\nPython\\'s development is conducted largely through the Python Enhancement Proposal (PEP) process, the primary mechanism for proposing major new features, collecting community input on issues, and documenting Python design decisions.[162] Python coding style is covered in PEP\\xa08.[163] Outstanding PEPs are reviewed and commented on by the Python community and the steering council.[162]\\\\nEnhancement of the language corresponds with the development of the CPython reference implementation. Python\\xa02.7.18, released in 2020, was the last release of Python\\xa02.[35]\\\\nPython consistently ranks as one of the most popular programming languages.[36][37][38][39]\\\\nHistory\\\\nPython was conceived in the late 1980s[40] by Guido van Rossum at Centrum Wiskunde & Informatica (CWI) in the Netherlands as a successor to the ABC programming language, which was inspired by SETL,[41] capable of exception handling and interfacing with the Amoeba operating system.[10] Its implementation began in December\\xa01989.[42] Van Rossum shouldered sole responsibility for the project, as the lead developer, until 12 July 2018, when he announced his \\\\\"permanent vacation\\\\\" from his responsibilities as Python\\'s \\\\\"benevolent dictator for life\\\\\", a title the Python community bestowed upon him to reflect his long-term commitment as the project\\'s chief decision-maker.[43] In January\\xa02019, active Python core developers elected a five-member Steering Council to lead the project.[44][45]\\\\nPython 2.0 was released on 16 October 2000, with many major new features such as list comprehensions, cycle-detecting garbage collection, reference counting, and Unicode support.[46] Python\\xa03.0, released on 3 December 2008, with many of its major features backported to Python\\xa02.6.x[47] and 2.7.x. The Decimal type/class in the decimal module provides decimal floating-point numbers to a pre-defined arbitrary precision and several rounding modes.[116] The Fraction class in the fractions module provides arbitrary precision for rational numbers.[117]\\\\nDue to Python\\'s extensive mathematics library, and the third-party library NumPy that further extends the native capabilities, it is frequently used as a scientific scripting language to aid in problems such as numerical data processing and manipulation.[118][119]\\\\nProgramming examples\\\\nHello world program:\\\\nProgram to calculate the factorial of a positive integer:\\\\nLibraries\\\\nPython\\'s large standard library[120] provides tools suited to many tasks and is commonly cited as one of its greatest strengths. SageMath is a computer algebra system with a notebook interface programmable in Python: its library covers many aspects of mathematics, including algebra, combinatorics, numerical mathematics, number theory, and calculus.[197] OpenCV has Python bindings with a rich set of features for computer vision and image processing.[198]\\\\nPython is commonly used in artificial intelligence projects and machine learning projects with the help of libraries like TensorFlow, Keras, Pytorch, and scikit-learn.[199][200][201][202] As a scripting language with a modular architecture, simple syntax, and rich text processing tools, Python is often used for natural language processing.[203]\\\\nPython can also be used for graphical user interface (GUI) by using libraries like Tkinter.[204][205]\\\\nPython can also be used to create games, with libraries such as Pygame, which can make 2D games.\\\\n This is reflected in its name—a tribute to the British comedy group Monty Python[76]—and in occasionally playful approaches to tutorials and reference materials, such as the use of the terms \\\\\"spam\\\\\" and \\\\\"eggs\\\\\" (a reference to a Monty Python sketch) in examples, instead of the often-used \\\\\"foo\\\\\" and \\\\\"bar\\\\\".[77][78]\\\\nA common neologism in the Python community is pythonic, which has a wide range of meanings related to program style.\"}, {\"url\": \"https://www.geeksforgeeks.org/python-programming-language-tutorial/\", \"content\": \"A comprehensive guide to learn Python, a popular and versatile programming language with easy-to-read syntax and extensive libraries. Cover topics from basics to advanced concepts, such as data types, functions, OOPs, exceptions, file handling, collections, databases and more.\"}]', name='tavily_search_results_json', id='7fc31871-dbb3-4239-9322-51c8e8b1db21', tool_call_id='call_hbwt', artifact={'query': 'Python programming language', 'follow_up_questions': None, 'answer': None, 'images': [], 'results': [{'title': 'Python (programming language) - Wikipedia', 'url': 'https://en.wikipedia.org/wiki/Python_(programming_language)', 'content': 'Other implementations\\nUnsupported implementations\\nOther just-in-time Python compilers have been developed, but are now unsupported:\\nCross-compilers to other languages\\nThere are several compilers/transpilers to high-level object languages, with either unrestricted Python, a restricted subset of Python, or a language similar to Python as the source language:\\nSpecialized:\\nOlder projects (or not to be used with Python 3.x and latest syntax):\\nPerformance\\nPerformance comparison of various Python implementations on a non-numerical (combinatorial) workload was presented at EuroSciPy \\'13.[160] Python\\'s performance compared to other programming languages is also benchmarked by The Computer Language Benchmarks Game.[161]\\nDevelopment\\nPython\\'s development is conducted largely through the Python Enhancement Proposal (PEP) process, the primary mechanism for proposing major new features, collecting community input on issues, and documenting Python design decisions.[162] Python coding style is covered in PEP\\xa08.[163] Outstanding PEPs are reviewed and commented on by the Python community and the steering council.[162]\\nEnhancement of the language corresponds with the development of the CPython reference implementation. Python\\xa02.7.18, released in 2020, was the last release of Python\\xa02.[35]\\nPython consistently ranks as one of the most popular programming languages.[36][37][38][39]\\nHistory\\nPython was conceived in the late 1980s[40] by Guido van Rossum at Centrum Wiskunde & Informatica (CWI) in the Netherlands as a successor to the ABC programming language, which was inspired by SETL,[41] capable of exception handling and interfacing with the Amoeba operating system.[10] Its implementation began in December\\xa01989.[42] Van Rossum shouldered sole responsibility for the project, as the lead developer, until 12 July 2018, when he announced his \"permanent vacation\" from his responsibilities as Python\\'s \"benevolent dictator for life\", a title the Python community bestowed upon him to reflect his long-term commitment as the project\\'s chief decision-maker.[43] In January\\xa02019, active Python core developers elected a five-member Steering Council to lead the project.[44][45]\\nPython 2.0 was released on 16 October 2000, with many major new features such as list comprehensions, cycle-detecting garbage collection, reference counting, and Unicode support.[46] Python\\xa03.0, released on 3 December 2008, with many of its major features backported to Python\\xa02.6.x[47] and 2.7.x. The Decimal type/class in the decimal module provides decimal floating-point numbers to a pre-defined arbitrary precision and several rounding modes.[116] The Fraction class in the fractions module provides arbitrary precision for rational numbers.[117]\\nDue to Python\\'s extensive mathematics library, and the third-party library NumPy that further extends the native capabilities, it is frequently used as a scientific scripting language to aid in problems such as numerical data processing and manipulation.[118][119]\\nProgramming examples\\nHello world program:\\nProgram to calculate the factorial of a positive integer:\\nLibraries\\nPython\\'s large standard library[120] provides tools suited to many tasks and is commonly cited as one of its greatest strengths. SageMath is a computer algebra system with a notebook interface programmable in Python: its library covers many aspects of mathematics, including algebra, combinatorics, numerical mathematics, number theory, and calculus.[197] OpenCV has Python bindings with a rich set of features for computer vision and image processing.[198]\\nPython is commonly used in artificial intelligence projects and machine learning projects with the help of libraries like TensorFlow, Keras, Pytorch, and scikit-learn.[199][200][201][202] As a scripting language with a modular architecture, simple syntax, and rich text processing tools, Python is often used for natural language processing.[203]\\nPython can also be used for graphical user interface (GUI) by using libraries like Tkinter.[204][205]\\nPython can also be used to create games, with libraries such as Pygame, which can make 2D games.\\n This is reflected in its name—a tribute to the British comedy group Monty Python[76]—and in occasionally playful approaches to tutorials and reference materials, such as the use of the terms \"spam\" and \"eggs\" (a reference to a Monty Python sketch) in examples, instead of the often-used \"foo\" and \"bar\".[77][78]\\nA common neologism in the Python community is pythonic, which has a wide range of meanings related to program style.', 'score': 0.8091708, 'raw_content': None}, {'title': 'Learn Python Programming Language - GeeksforGeeks', 'url': 'https://www.geeksforgeeks.org/python-programming-language-tutorial/', 'content': 'A comprehensive guide to learn Python, a popular and versatile programming language with easy-to-read syntax and extensive libraries. Cover topics from basics to advanced concepts, such as data types, functions, OOPs, exceptions, file handling, collections, databases and more.', 'score': 0.7336813, 'raw_content': None}], 'response_time': 1.46}),\n",
       " AIMessage(content=\"Python is a popular and versatile programming language with easy-to-read syntax and extensive libraries. It was conceived in the late 1980s by Guido van Rossum as a successor to the ABC programming language and was influenced by SETL. Python's implementation began in December 1989 and its development is largely conducted through the Python Enhancement Proposal (PEP) process. Python 2.0 was released in 2000 with major new features, and Python 3.0 was released in 2008 with many of its major features backported to Python 2.6.x and 2.7.x. Python is commonly used in artificial intelligence, machine learning, and natural language processing projects with the help of libraries like TensorFlow, Keras, Pytorch, scikit-learn, and NLTK. It is also used for web development, data analysis, and scripting. Python's large standard library provides tools for many tasks and is commonly cited as one of its greatest strengths. It is frequently used as a scientific scripting language to aid in problems such as numerical data processing and manipulation. The language is named after the British comedy group Monty Python.\", additional_kwargs={}, response_metadata={'token_usage': {'completion_tokens': 263, 'prompt_tokens': 2560, 'total_tokens': 2823, 'completion_time': 0.405375825, 'prompt_time': 0.180625872, 'queue_time': 0.018744361000000015, 'total_time': 0.586001697}, 'model_name': 'mixtral-8x7b-32768', 'system_fingerprint': 'fp_c5f20b5bb1', 'finish_reason': 'stop', 'logprobs': None}, id='run-811a5613-7057-4f6c-b9b0-79580ab96f22-0', usage_metadata={'input_tokens': 2560, 'output_tokens': 263, 'total_tokens': 2823})]"
      ]
     },
     "execution_count": 41,
     "metadata": {},
     "output_type": "execute_result"
    }
   ],
   "source": [
    "response = agent_executer.invoke({\"messages\": [HumanMessage(content=\"What is python?\")]})\n",
    "\n",
    "response[\"messages\"]"
   ]
  },
  {
   "cell_type": "code",
   "execution_count": 42,
   "metadata": {},
   "outputs": [],
   "source": [
    "from langgraph.checkpoint.memory import  MemorySaver"
   ]
  },
  {
   "cell_type": "code",
   "execution_count": 43,
   "metadata": {},
   "outputs": [],
   "source": [
    "memory = MemorySaver()"
   ]
  },
  {
   "cell_type": "code",
   "execution_count": 44,
   "metadata": {},
   "outputs": [],
   "source": [
    "agent_executer = create_react_agent(llm, tools, checkpointer=memory)"
   ]
  },
  {
   "cell_type": "code",
   "execution_count": 45,
   "metadata": {},
   "outputs": [],
   "source": [
    "config = {\"configurable\": {\"thread_id\": \"001\"}}"
   ]
  },
  {
   "cell_type": "code",
   "execution_count": 46,
   "metadata": {},
   "outputs": [
    {
     "name": "stdout",
     "output_type": "stream",
     "text": [
      "{'agent': {'messages': [AIMessage(content='', additional_kwargs={'tool_calls': [{'id': 'call_fg5k', 'function': {'arguments': '{\"query\":\"t20 world cup 2024 winner\"}', 'name': 'tavily_search_results_json'}, 'type': 'function'}]}, response_metadata={'token_usage': {'completion_tokens': 105, 'prompt_tokens': 1219, 'total_tokens': 1324, 'completion_time': 0.160885724, 'prompt_time': 0.051113688, 'queue_time': 0.02249322, 'total_time': 0.211999412}, 'model_name': 'mixtral-8x7b-32768', 'system_fingerprint': 'fp_c5f20b5bb1', 'finish_reason': 'tool_calls', 'logprobs': None}, id='run-2ea11580-a855-4967-b090-3d4c60b4f569-0', tool_calls=[{'name': 'tavily_search_results_json', 'args': {'query': 't20 world cup 2024 winner'}, 'id': 'call_fg5k', 'type': 'tool_call'}], usage_metadata={'input_tokens': 1219, 'output_tokens': 105, 'total_tokens': 1324})]}}\n",
      "____________\n",
      "{'tools': {'messages': [ToolMessage(content='[{\"url\": \"https://apnews.com/article/t20-world-cup-final-india-south-africa-7e34991216a0e6b32e0ead3d5dbf6684\", \"content\": \"India\\'s head coach Rahul Dravid, center, and players celebrate with the winners trophy after defeating South Africa in the ICC Men\\'s T20 World Cup final cricket match at Kensington Oval in Bridgetown, Barbados, Saturday, June 29, 2024.\"}, {\"url\": \"https://en.wikipedia.org/wiki/2024_Men\\'s_T20_World_Cup\", \"content\": \"In the next match, Bangladesh set a target of 160 runs but Netherlands fell short by 25 runs as a result Sri Lanka was eliminated from the tournament.[121] While, England chased down Oman\\'s target of 48 runs in just 3.1 overs.[122] Afghanistan beat Papua New Guinea by 7 wickets and paving their to the Super 8 stage while eliminating New Zealand, Uganda and Papua New Guinea from the tournament.[123] The 30th match between United States and Ireland on 14 June 2024 was abandoned due to rain resulting in US being qualified for Super 8 stage while Canada, Ireland, and Pakistan were eliminated from the tournament.[124] On the same day, South Africa defeated and eliminated Nepal by 1 run in a close low scoring encounter.[125] while New Zealand defeated Uganda by chasing down the target of 41 runs in 5.2 overs .[126]\"}]', name='tavily_search_results_json', tool_call_id='call_fg5k', artifact={'query': 't20 world cup 2024 winner', 'follow_up_questions': None, 'answer': None, 'images': [], 'results': [{'title': 'Team India becomes T20 World Cup 2024 champions, Virat Kohli retires ...', 'url': 'https://apnews.com/article/t20-world-cup-final-india-south-africa-7e34991216a0e6b32e0ead3d5dbf6684', 'content': \"India's head coach Rahul Dravid, center, and players celebrate with the winners trophy after defeating South Africa in the ICC Men's T20 World Cup final cricket match at Kensington Oval in Bridgetown, Barbados, Saturday, June 29, 2024.\", 'score': 0.9071234, 'raw_content': None}, {'title': \"2024 Men's T20 World Cup - Wikipedia\", 'url': \"https://en.wikipedia.org/wiki/2024_Men's_T20_World_Cup\", 'content': \"In the next match, Bangladesh set a target of 160 runs but Netherlands fell short by 25 runs as a result Sri Lanka was eliminated from the tournament.[121] While, England chased down Oman's target of 48 runs in just 3.1 overs.[122] Afghanistan beat Papua New Guinea by 7 wickets and paving their to the Super 8 stage while eliminating New Zealand, Uganda and Papua New Guinea from the tournament.[123] The 30th match between United States and Ireland on 14 June 2024 was abandoned due to rain resulting in US being qualified for Super 8 stage while Canada, Ireland, and Pakistan were eliminated from the tournament.[124] On the same day, South Africa defeated and eliminated Nepal by 1 run in a close low scoring encounter.[125] while New Zealand defeated Uganda by chasing down the target of 41 runs in 5.2 overs .[126]\", 'score': 0.8066246, 'raw_content': None}], 'response_time': 1.48})]}}\n",
      "____________\n",
      "{'agent': {'messages': [AIMessage(content='India won the T20 World Cup in 2024 by defeating South Africa in the final match.', additional_kwargs={}, response_metadata={'token_usage': {'completion_tokens': 25, 'prompt_tokens': 1706, 'total_tokens': 1731, 'completion_time': 0.037170185, 'prompt_time': 0.071335231, 'queue_time': 0.020014239000000003, 'total_time': 0.108505416}, 'model_name': 'mixtral-8x7b-32768', 'system_fingerprint': 'fp_c5f20b5bb1', 'finish_reason': 'stop', 'logprobs': None}, id='run-57685c64-7545-4512-9dee-abbc27ee2fe9-0', usage_metadata={'input_tokens': 1706, 'output_tokens': 25, 'total_tokens': 1731})]}}\n",
      "____________\n"
     ]
    }
   ],
   "source": [
    "for chunk in agent_executer.stream(\n",
    "    {\"messages\": [HumanMessage(content=\"Who won the t20 world cup 2024?\")]},config\n",
    "):\n",
    "    print(chunk)\n",
    "    print(\"____________\")"
   ]
  },
  {
   "cell_type": "code",
   "execution_count": 50,
   "metadata": {},
   "outputs": [
    {
     "name": "stdout",
     "output_type": "stream",
     "text": [
      "{'agent': {'messages': [AIMessage(content=\"Based on the search results provided, the tool did not specify the top performers of the winner team in the final of the T20 World Cup in 2024. However, the search results do show a picture of India's head coach Rahul Dravid and players celebrating with the winners trophy after defeating South Africa. It can be inferred that the team performed well as a whole to win the match.\", additional_kwargs={}, response_metadata={'token_usage': {'completion_tokens': 90, 'prompt_tokens': 1873, 'total_tokens': 1963, 'completion_time': 0.138133591, 'prompt_time': 0.15916413, 'queue_time': 0.017559414000000023, 'total_time': 0.297297721}, 'model_name': 'mixtral-8x7b-32768', 'system_fingerprint': 'fp_c5f20b5bb1', 'finish_reason': 'stop', 'logprobs': None}, id='run-f5fedee1-e6e7-4217-8752-e8c9ba814d52-0', usage_metadata={'input_tokens': 1873, 'output_tokens': 90, 'total_tokens': 1963})]}}\n",
      "____________\n"
     ]
    }
   ],
   "source": [
    "for chunk in agent_executer.stream(\n",
    "    {\"messages\": [HumanMessage(content=\"Who were the top performers of that winner team?\")]},config\n",
    "):\n",
    "    print(chunk)\n",
    "    print(\"____________\")"
   ]
  },
  {
   "cell_type": "code",
   "execution_count": null,
   "metadata": {},
   "outputs": [
    {
     "ename": "",
     "evalue": "",
     "output_type": "error",
     "traceback": [
      "\u001b[1;31mRunning cells with 'venv (Python 3.11.0)' requires the ipykernel package.\n",
      "\u001b[1;31mRun the following command to install 'ipykernel' into the Python environment. \n",
      "\u001b[1;31mCommand: 'conda install -n venv ipykernel --update-deps --force-reinstall'"
     ]
    }
   ],
   "source": [
    "%pip install langserve"
   ]
  },
  {
   "cell_type": "code",
   "execution_count": 52,
   "metadata": {},
   "outputs": [
    {
     "name": "stdout",
     "output_type": "stream",
     "text": [
      "Collecting fastapi\n",
      "  Downloading fastapi-0.115.7-py3-none-any.whl (94 kB)\n",
      "     -------------------------------------- 94.8/94.8 kB 541.9 kB/s eta 0:00:00\n",
      "Requirement already satisfied: pydantic!=1.8,!=1.8.1,!=2.0.0,!=2.0.1,!=2.1.0,<3.0.0,>=1.7.4 in c:\\users\\klnis\\anaconda3\\lib\\site-packages (from fastapi) (2.10.5)\n",
      "Requirement already satisfied: typing-extensions>=4.8.0 in c:\\users\\klnis\\anaconda3\\lib\\site-packages (from fastapi) (4.12.2)\n",
      "Collecting starlette<0.46.0,>=0.40.0\n",
      "  Downloading starlette-0.45.3-py3-none-any.whl (71 kB)\n",
      "     ---------------------------------------- 71.5/71.5 kB 2.0 MB/s eta 0:00:00\n",
      "Requirement already satisfied: pydantic-core==2.27.2 in c:\\users\\klnis\\anaconda3\\lib\\site-packages (from pydantic!=1.8,!=1.8.1,!=2.0.0,!=2.0.1,!=2.1.0,<3.0.0,>=1.7.4->fastapi) (2.27.2)\n",
      "Requirement already satisfied: annotated-types>=0.6.0 in c:\\users\\klnis\\anaconda3\\lib\\site-packages (from pydantic!=1.8,!=1.8.1,!=2.0.0,!=2.0.1,!=2.1.0,<3.0.0,>=1.7.4->fastapi) (0.7.0)\n",
      "Collecting anyio<5,>=3.6.2\n",
      "  Downloading anyio-4.8.0-py3-none-any.whl (96 kB)\n",
      "     ---------------------------------------- 96.0/96.0 kB 1.1 MB/s eta 0:00:00\n",
      "Requirement already satisfied: idna>=2.8 in c:\\users\\klnis\\anaconda3\\lib\\site-packages (from anyio<5,>=3.6.2->starlette<0.46.0,>=0.40.0->fastapi) (3.4)\n",
      "Requirement already satisfied: sniffio>=1.1 in c:\\users\\klnis\\anaconda3\\lib\\site-packages (from anyio<5,>=3.6.2->starlette<0.46.0,>=0.40.0->fastapi) (1.2.0)\n",
      "Collecting exceptiongroup>=1.0.2\n",
      "  Downloading exceptiongroup-1.2.2-py3-none-any.whl (16 kB)\n",
      "Installing collected packages: exceptiongroup, anyio, starlette, fastapi\n",
      "  Attempting uninstall: anyio\n",
      "    Found existing installation: anyio 3.5.0\n",
      "    Uninstalling anyio-3.5.0:\n",
      "      Successfully uninstalled anyio-3.5.0\n",
      "Successfully installed anyio-4.8.0 exceptiongroup-1.2.2 fastapi-0.115.7 starlette-0.45.3\n",
      "Note: you may need to restart the kernel to use updated packages.\n"
     ]
    },
    {
     "name": "stderr",
     "output_type": "stream",
     "text": [
      "ERROR: pip's dependency resolver does not currently take into account all the packages that are installed. This behaviour is the source of the following dependency conflicts.\n",
      "langchain-openai 0.1.17 requires langchain-core<0.3.0,>=0.2.20, but you have langchain-core 0.3.31 which is incompatible.\n",
      "jupyter-server 1.23.4 requires anyio<4,>=3.1.0, but you have anyio 4.8.0 which is incompatible.\n"
     ]
    }
   ],
   "source": [
    "%pip install fastapi"
   ]
  },
  {
   "cell_type": "code",
   "execution_count": 53,
   "metadata": {},
   "outputs": [
    {
     "name": "stdout",
     "output_type": "stream",
     "text": [
      "Collecting uvicorn\n",
      "  Downloading uvicorn-0.34.0-py3-none-any.whl (62 kB)\n",
      "     -------------------------------------- 62.3/62.3 kB 477.8 kB/s eta 0:00:00\n",
      "Requirement already satisfied: typing-extensions>=4.0 in c:\\users\\klnis\\anaconda3\\lib\\site-packages (from uvicorn) (4.12.2)\n",
      "Requirement already satisfied: h11>=0.8 in c:\\users\\klnis\\anaconda3\\lib\\site-packages (from uvicorn) (0.14.0)\n",
      "Requirement already satisfied: click>=7.0 in c:\\users\\klnis\\anaconda3\\lib\\site-packages (from uvicorn) (8.0.4)\n",
      "Requirement already satisfied: colorama in c:\\users\\klnis\\anaconda3\\lib\\site-packages (from click>=7.0->uvicorn) (0.4.6)\n",
      "Installing collected packages: uvicorn\n",
      "Successfully installed uvicorn-0.34.0\n",
      "Note: you may need to restart the kernel to use updated packages.\n"
     ]
    }
   ],
   "source": [
    "%pip install uvicorn"
   ]
  },
  {
   "cell_type": "code",
   "execution_count": null,
   "metadata": {},
   "outputs": [],
   "source": []
  }
 ],
 "metadata": {
  "kernelspec": {
   "display_name": "venv",
   "language": "python",
   "name": "python3"
  },
  "language_info": {
   "codemirror_mode": {
    "name": "ipython",
    "version": 3
   },
   "file_extension": ".py",
   "mimetype": "text/x-python",
   "name": "python",
   "nbconvert_exporter": "python",
   "pygments_lexer": "ipython3",
   "version": "3.11.0"
  }
 },
 "nbformat": 4,
 "nbformat_minor": 2
}
